{
 "cells": [
  {
   "cell_type": "markdown",
   "metadata": {},
   "source": [
    "Day: 01✅\n",
    "Understand the Basics\n",
    "> Introduction to Python Language\n",
    "\n",
    "> Python Features and Applications\n",
    "\n",
    "> How to Install Python?\n",
    "<br>Hello World Program in Python\n",
    "Integrated Development Environments\n",
    "(IDEs) for Python"
   ]
  },
  {
   "cell_type": "markdown",
   "metadata": {},
   "source": [
    "¿What is Python?\n",
    "\n",
    "Python is a lenguage of programing intepretate, He is very easy learn. go to view How to install in the computer\n",
    "if use Linux go to next link and follow the instructions [guide for linux](https://docs.python-guide.org/starting/install3/linux/)\n",
    "\n"
   ]
  },
  {
   "cell_type": "markdown",
   "metadata": {},
   "source": [
    "# HOLA MUNDO IN PYTHON"
   ]
  },
  {
   "cell_type": "code",
   "execution_count": 1,
   "metadata": {},
   "outputs": [
    {
     "name": "stdout",
     "output_type": "stream",
     "text": [
      "Hola mundo\n"
     ]
    }
   ],
   "source": [
    "print(\"Hola mundo\")"
   ]
  },
  {
   "cell_type": "markdown",
   "metadata": {},
   "source": [
    "Integrade Development Enviroments for Python \n",
    "\n",
    "1 Pychart\n",
    "2 Spyder\n",
    "3 "
   ]
  },
  {
   "cell_type": "code",
   "execution_count": null,
   "metadata": {},
   "outputs": [],
   "source": []
  }
 ],
 "metadata": {
  "kernelspec": {
   "display_name": "Python 3.10.4 64-bit",
   "language": "python",
   "name": "python3"
  },
  "language_info": {
   "codemirror_mode": {
    "name": "ipython",
    "version": 3
   },
   "file_extension": ".py",
   "mimetype": "text/x-python",
   "name": "python",
   "nbconvert_exporter": "python",
   "pygments_lexer": "ipython3",
   "version": "3.10.4"
  },
  "orig_nbformat": 4,
  "vscode": {
   "interpreter": {
    "hash": "344429fa07427445b6052fa495fe4d2e2425b7921b28b0162fbb195798b6cb75"
   }
  }
 },
 "nbformat": 4,
 "nbformat_minor": 2
}
