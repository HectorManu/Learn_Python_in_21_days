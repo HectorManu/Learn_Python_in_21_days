{
 "cells": [
  {
   "cell_type": "markdown",
   "metadata": {},
   "source": [
    "Day: 01✅\n",
    "Understand the Basics\n",
    "> Introduction to Python Language\n",
    "\n",
    "> Python Features and Applications\n",
    "\n",
    "> How to Install Python?\n",
    "<br>Hello World Program in Python\n",
    "Integrated Development Environments\n",
    "(IDEs) for Python"
   ]
  },
  {
   "cell_type": "markdown",
   "metadata": {},
   "source": [
    "¿What is Python?\n",
    "\n",
    "Python is a lenguage of programing intepretate, He is very easy learn. go to view How to install in the computer\n",
    "if use Linux go to next link and follow the instructions [guide for linux](https://docs.python-guide.org/starting/install3/linux/)\n",
    "\n"
   ]
  }
 ],
 "metadata": {
  "language_info": {
   "name": "python"
  },
  "orig_nbformat": 4
 },
 "nbformat": 4,
 "nbformat_minor": 2
}
